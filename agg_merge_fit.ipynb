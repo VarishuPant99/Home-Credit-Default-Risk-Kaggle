{
 "cells": [
  {
   "cell_type": "code",
   "execution_count": 2,
   "metadata": {},
   "outputs": [],
   "source": [
    "import pandas as pd\n",
    "import numpy as np\n",
    "from sklearn.preprocessing import OneHotEncoder as ohe\n",
    "from sklearn.feature_extraction.text import CountVectorizer as cver"
   ]
  },
  {
   "cell_type": "code",
   "execution_count": 7,
   "metadata": {},
   "outputs": [],
   "source": [
    "to_impute_cat=[]\n",
    "to_impute_num=[]\n",
    "for col in data.columns:\n",
    "    if (data.loc[:,col].isnull().sum()/data.shape[0])>0 and (data.loc[:,col].isnull().sum()/data.shape[0]) <0.2:\n",
    "        if data.loc[:,col].dtype =='object':\n",
    "            to_impute_cat.append(col)\n",
    "        else:\n",
    "            to_impute_num.append(col)\n",
    "numerical_data=data.loc[:,to_impute_num]\n",
    "categorical_data=data.loc[:,to_impute_cat]\n",
    "pure_num_data=numerical_data.copy()\n",
    "pure_cat_data=categorical_data.copy()\n",
    "pure_num_data.dropna(inplace=True)\n",
    "pure_cat_data.dropna(inplace=True)"
   ]
  },
  {
   "cell_type": "code",
   "execution_count": 123,
   "metadata": {},
   "outputs": [
    {
     "name": "stdout",
     "output_type": "stream",
     "text": [
      "[0, 1, 2, 3]\n"
     ]
    }
   ],
   "source": [
    "train_list=[credit_train_new,inst_train1_imputed,pos_train1_imputed,previous_application_imputed,app_train_imputed]\n",
    "df_to_agg=[]\n",
    "for data in range(len(train_list)):\n",
    "    if train_list[data].loc[:,'SK_ID_CURR'].nunique() != train_list[data].shape[0]:\n",
    "        df_to_agg.append(data)\n",
    "print(df_to_agg)"
   ]
  },
  {
   "cell_type": "code",
   "execution_count": 483,
   "metadata": {},
   "outputs": [
    {
     "name": "stdout",
     "output_type": "stream",
     "text": [
      "Want train or test?:(0:train,1:test)--0\n"
     ]
    },
    {
     "name": "stderr",
     "output_type": "stream",
     "text": [
      "C:\\ProgramData\\Anaconda3\\lib\\site-packages\\ipykernel_launcher.py:60: SettingWithCopyWarning: \n",
      "A value is trying to be set on a copy of a slice from a DataFrame\n",
      "\n",
      "See the caveats in the documentation: http://pandas.pydata.org/pandas-docs/stable/user_guide/indexing.html#returning-a-view-versus-a-copy\n",
      "C:\\ProgramData\\Anaconda3\\lib\\site-packages\\ipykernel_launcher.py:61: SettingWithCopyWarning: \n",
      "A value is trying to be set on a copy of a slice from a DataFrame\n",
      "\n",
      "See the caveats in the documentation: http://pandas.pydata.org/pandas-docs/stable/user_guide/indexing.html#returning-a-view-versus-a-copy\n",
      "C:\\ProgramData\\Anaconda3\\lib\\site-packages\\ipykernel_launcher.py:62: SettingWithCopyWarning: \n",
      "A value is trying to be set on a copy of a slice from a DataFrame\n",
      "\n",
      "See the caveats in the documentation: http://pandas.pydata.org/pandas-docs/stable/user_guide/indexing.html#returning-a-view-versus-a-copy\n",
      "C:\\ProgramData\\Anaconda3\\lib\\site-packages\\ipykernel_launcher.py:63: SettingWithCopyWarning: \n",
      "A value is trying to be set on a copy of a slice from a DataFrame\n",
      "\n",
      "See the caveats in the documentation: http://pandas.pydata.org/pandas-docs/stable/user_guide/indexing.html#returning-a-view-versus-a-copy\n",
      "C:\\ProgramData\\Anaconda3\\lib\\site-packages\\ipykernel_launcher.py:66: SettingWithCopyWarning: \n",
      "A value is trying to be set on a copy of a slice from a DataFrame\n",
      "\n",
      "See the caveats in the documentation: http://pandas.pydata.org/pandas-docs/stable/user_guide/indexing.html#returning-a-view-versus-a-copy\n",
      "C:\\ProgramData\\Anaconda3\\lib\\site-packages\\ipykernel_launcher.py:69: SettingWithCopyWarning: \n",
      "A value is trying to be set on a copy of a slice from a DataFrame\n",
      "\n",
      "See the caveats in the documentation: http://pandas.pydata.org/pandas-docs/stable/user_guide/indexing.html#returning-a-view-versus-a-copy\n",
      "C:\\ProgramData\\Anaconda3\\lib\\site-packages\\ipykernel_launcher.py:70: SettingWithCopyWarning: \n",
      "A value is trying to be set on a copy of a slice from a DataFrame\n",
      "\n",
      "See the caveats in the documentation: http://pandas.pydata.org/pandas-docs/stable/user_guide/indexing.html#returning-a-view-versus-a-copy\n",
      "C:\\ProgramData\\Anaconda3\\lib\\site-packages\\ipykernel_launcher.py:71: SettingWithCopyWarning: \n",
      "A value is trying to be set on a copy of a slice from a DataFrame\n",
      "\n",
      "See the caveats in the documentation: http://pandas.pydata.org/pandas-docs/stable/user_guide/indexing.html#returning-a-view-versus-a-copy\n",
      "C:\\ProgramData\\Anaconda3\\lib\\site-packages\\ipykernel_launcher.py:82: SettingWithCopyWarning: \n",
      "A value is trying to be set on a copy of a slice from a DataFrame\n",
      "\n",
      "See the caveats in the documentation: http://pandas.pydata.org/pandas-docs/stable/user_guide/indexing.html#returning-a-view-versus-a-copy\n",
      "C:\\ProgramData\\Anaconda3\\lib\\site-packages\\ipykernel_launcher.py:83: SettingWithCopyWarning: \n",
      "A value is trying to be set on a copy of a slice from a DataFrame\n",
      "\n",
      "See the caveats in the documentation: http://pandas.pydata.org/pandas-docs/stable/user_guide/indexing.html#returning-a-view-versus-a-copy\n",
      "C:\\ProgramData\\Anaconda3\\lib\\site-packages\\ipykernel_launcher.py:85: SettingWithCopyWarning: \n",
      "A value is trying to be set on a copy of a slice from a DataFrame\n",
      "\n",
      "See the caveats in the documentation: http://pandas.pydata.org/pandas-docs/stable/user_guide/indexing.html#returning-a-view-versus-a-copy\n",
      "C:\\ProgramData\\Anaconda3\\lib\\site-packages\\ipykernel_launcher.py:86: SettingWithCopyWarning: \n",
      "A value is trying to be set on a copy of a slice from a DataFrame\n",
      "\n",
      "See the caveats in the documentation: http://pandas.pydata.org/pandas-docs/stable/user_guide/indexing.html#returning-a-view-versus-a-copy\n",
      "C:\\ProgramData\\Anaconda3\\lib\\site-packages\\ipykernel_launcher.py:87: SettingWithCopyWarning: \n",
      "A value is trying to be set on a copy of a slice from a DataFrame\n",
      "\n",
      "See the caveats in the documentation: http://pandas.pydata.org/pandas-docs/stable/user_guide/indexing.html#returning-a-view-versus-a-copy\n",
      "C:\\ProgramData\\Anaconda3\\lib\\site-packages\\ipykernel_launcher.py:88: SettingWithCopyWarning: \n",
      "A value is trying to be set on a copy of a slice from a DataFrame\n",
      "\n",
      "See the caveats in the documentation: http://pandas.pydata.org/pandas-docs/stable/user_guide/indexing.html#returning-a-view-versus-a-copy\n",
      "C:\\ProgramData\\Anaconda3\\lib\\site-packages\\ipykernel_launcher.py:89: SettingWithCopyWarning: \n",
      "A value is trying to be set on a copy of a slice from a DataFrame\n",
      "\n",
      "See the caveats in the documentation: http://pandas.pydata.org/pandas-docs/stable/user_guide/indexing.html#returning-a-view-versus-a-copy\n",
      "C:\\ProgramData\\Anaconda3\\lib\\site-packages\\ipykernel_launcher.py:90: SettingWithCopyWarning: \n",
      "A value is trying to be set on a copy of a slice from a DataFrame\n",
      "\n",
      "See the caveats in the documentation: http://pandas.pydata.org/pandas-docs/stable/user_guide/indexing.html#returning-a-view-versus-a-copy\n",
      "C:\\ProgramData\\Anaconda3\\lib\\site-packages\\ipykernel_launcher.py:91: SettingWithCopyWarning: \n",
      "A value is trying to be set on a copy of a slice from a DataFrame\n",
      "\n",
      "See the caveats in the documentation: http://pandas.pydata.org/pandas-docs/stable/user_guide/indexing.html#returning-a-view-versus-a-copy\n",
      "C:\\ProgramData\\Anaconda3\\lib\\site-packages\\ipykernel_launcher.py:92: SettingWithCopyWarning: \n",
      "A value is trying to be set on a copy of a slice from a DataFrame\n",
      "\n",
      "See the caveats in the documentation: http://pandas.pydata.org/pandas-docs/stable/user_guide/indexing.html#returning-a-view-versus-a-copy\n",
      "C:\\ProgramData\\Anaconda3\\lib\\site-packages\\ipykernel_launcher.py:93: SettingWithCopyWarning: \n",
      "A value is trying to be set on a copy of a slice from a DataFrame\n",
      "\n",
      "See the caveats in the documentation: http://pandas.pydata.org/pandas-docs/stable/user_guide/indexing.html#returning-a-view-versus-a-copy\n",
      "C:\\ProgramData\\Anaconda3\\lib\\site-packages\\ipykernel_launcher.py:94: SettingWithCopyWarning: \n",
      "A value is trying to be set on a copy of a slice from a DataFrame\n",
      "\n",
      "See the caveats in the documentation: http://pandas.pydata.org/pandas-docs/stable/user_guide/indexing.html#returning-a-view-versus-a-copy\n",
      "C:\\ProgramData\\Anaconda3\\lib\\site-packages\\ipykernel_launcher.py:95: SettingWithCopyWarning: \n",
      "A value is trying to be set on a copy of a slice from a DataFrame\n",
      "\n",
      "See the caveats in the documentation: http://pandas.pydata.org/pandas-docs/stable/user_guide/indexing.html#returning-a-view-versus-a-copy\n",
      "C:\\ProgramData\\Anaconda3\\lib\\site-packages\\ipykernel_launcher.py:96: SettingWithCopyWarning: \n",
      "A value is trying to be set on a copy of a slice from a DataFrame\n",
      "\n",
      "See the caveats in the documentation: http://pandas.pydata.org/pandas-docs/stable/user_guide/indexing.html#returning-a-view-versus-a-copy\n",
      "C:\\ProgramData\\Anaconda3\\lib\\site-packages\\ipykernel_launcher.py:97: SettingWithCopyWarning: \n",
      "A value is trying to be set on a copy of a slice from a DataFrame\n",
      "\n",
      "See the caveats in the documentation: http://pandas.pydata.org/pandas-docs/stable/user_guide/indexing.html#returning-a-view-versus-a-copy\n"
     ]
    }
   ],
   "source": [
    "bureau1 = pd.read_csv(r'C:\\Users\\Varishu Pant\\Desktop\\Praxis docs\\Financial Analytics\\home-credit-default-risk\\bureau.csv')\n",
    "bureau_balance1 = pd.read_csv(r'C:\\Users\\Varishu Pant\\Desktop\\Praxis docs\\Financial Analytics\\home-credit-default-risk\\bureau_balance.csv')\n",
    "cc =pd.read_csv(r'C:\\Users\\Varishu Pant\\Desktop\\Praxis docs\\Financial Analytics\\home-credit-default-risk\\credit_card_balance.csv')\n",
    "pos=pd.read_csv(r'C:\\Users\\Varishu Pant\\Desktop\\Praxis docs\\Financial Analytics\\home-credit-default-risk\\POS_CASH_balance.csv')\n",
    "inst=pd.read_csv(r'C:\\Users\\Varishu Pant\\Desktop\\Praxis docs\\Financial Analytics\\home-credit-default-risk\\installments_payments.csv')\n",
    "prevapp =pd.read_csv(r\"C:\\Users\\Varishu Pant\\Desktop\\Praxis docs\\Financial Analytics\\home-credit-default-risk\\previous_application.csv\")\n",
    "app_train = pd.read_csv(r'C:\\Users\\Varishu Pant\\Desktop\\Praxis docs\\Financial Analytics\\home-credit-default-risk\\application_train.csv')\n",
    "app_test = pd.read_csv(r'C:\\Users\\Varishu Pant\\Desktop\\Praxis docs\\Financial Analytics\\home-credit-default-risk\\application_test.csv')\n",
    "\n",
    "agg_credit_fin,agg_inst_fin,agg_pos_fin,agg_prevapp_fin,agg_bureau_fin,agg_app_fin=preprocessing_pipeline(app_train,app_test,prevapp,bureau1,bureau_balance1,cc,pos,inst)"
   ]
  },
  {
   "cell_type": "code",
   "execution_count": 486,
   "metadata": {},
   "outputs": [
    {
     "data": {
      "text/plain": [
       "(72793, 396)"
      ]
     },
     "execution_count": 486,
     "metadata": {},
     "output_type": "execute_result"
    }
   ],
   "source": [
    "df=agg_app_fin.join(agg_inst_fin,how='inner',on='SK_ID_CURR',lsuffix='1',rsuffix='2')\n",
    "df1=df.join(agg_prevapp_fin,how='inner',lsuffix='1',rsuffix='2')\n",
    "df2=df1.join(agg_pos_fin,how='inner',lsuffix='1',rsuffix='2')\n",
    "df3=df2.join(agg_bureau_fin,how='inner',lsuffix='1',rsuffix='2')\n",
    "df4=df3.join(agg_credit_fin,how='inner',lsuffix='1',rsuffix='2')\n",
    "df4.shape"
   ]
  },
  {
   "cell_type": "code",
   "execution_count": 492,
   "metadata": {},
   "outputs": [],
   "source": [
    "train.to_csv('FINAL_TRAIN_MERGED.csv')"
   ]
  },
  {
   "cell_type": "code",
   "execution_count": 487,
   "metadata": {},
   "outputs": [],
   "source": [
    "train=df4.copy()"
   ]
  },
  {
   "cell_type": "code",
   "execution_count": 480,
   "metadata": {},
   "outputs": [
    {
     "name": "stdout",
     "output_type": "stream",
     "text": [
      "Want train or test?:(0:train,1:test)--1\n"
     ]
    },
    {
     "name": "stderr",
     "output_type": "stream",
     "text": [
      "C:\\ProgramData\\Anaconda3\\lib\\site-packages\\ipykernel_launcher.py:60: SettingWithCopyWarning: \n",
      "A value is trying to be set on a copy of a slice from a DataFrame\n",
      "\n",
      "See the caveats in the documentation: http://pandas.pydata.org/pandas-docs/stable/user_guide/indexing.html#returning-a-view-versus-a-copy\n",
      "C:\\ProgramData\\Anaconda3\\lib\\site-packages\\ipykernel_launcher.py:61: SettingWithCopyWarning: \n",
      "A value is trying to be set on a copy of a slice from a DataFrame\n",
      "\n",
      "See the caveats in the documentation: http://pandas.pydata.org/pandas-docs/stable/user_guide/indexing.html#returning-a-view-versus-a-copy\n",
      "C:\\ProgramData\\Anaconda3\\lib\\site-packages\\ipykernel_launcher.py:62: SettingWithCopyWarning: \n",
      "A value is trying to be set on a copy of a slice from a DataFrame\n",
      "\n",
      "See the caveats in the documentation: http://pandas.pydata.org/pandas-docs/stable/user_guide/indexing.html#returning-a-view-versus-a-copy\n",
      "C:\\ProgramData\\Anaconda3\\lib\\site-packages\\ipykernel_launcher.py:63: SettingWithCopyWarning: \n",
      "A value is trying to be set on a copy of a slice from a DataFrame\n",
      "\n",
      "See the caveats in the documentation: http://pandas.pydata.org/pandas-docs/stable/user_guide/indexing.html#returning-a-view-versus-a-copy\n",
      "C:\\ProgramData\\Anaconda3\\lib\\site-packages\\ipykernel_launcher.py:66: SettingWithCopyWarning: \n",
      "A value is trying to be set on a copy of a slice from a DataFrame\n",
      "\n",
      "See the caveats in the documentation: http://pandas.pydata.org/pandas-docs/stable/user_guide/indexing.html#returning-a-view-versus-a-copy\n",
      "C:\\ProgramData\\Anaconda3\\lib\\site-packages\\ipykernel_launcher.py:69: SettingWithCopyWarning: \n",
      "A value is trying to be set on a copy of a slice from a DataFrame\n",
      "\n",
      "See the caveats in the documentation: http://pandas.pydata.org/pandas-docs/stable/user_guide/indexing.html#returning-a-view-versus-a-copy\n",
      "C:\\ProgramData\\Anaconda3\\lib\\site-packages\\ipykernel_launcher.py:70: SettingWithCopyWarning: \n",
      "A value is trying to be set on a copy of a slice from a DataFrame\n",
      "\n",
      "See the caveats in the documentation: http://pandas.pydata.org/pandas-docs/stable/user_guide/indexing.html#returning-a-view-versus-a-copy\n",
      "C:\\ProgramData\\Anaconda3\\lib\\site-packages\\ipykernel_launcher.py:71: SettingWithCopyWarning: \n",
      "A value is trying to be set on a copy of a slice from a DataFrame\n",
      "\n",
      "See the caveats in the documentation: http://pandas.pydata.org/pandas-docs/stable/user_guide/indexing.html#returning-a-view-versus-a-copy\n",
      "C:\\ProgramData\\Anaconda3\\lib\\site-packages\\ipykernel_launcher.py:82: SettingWithCopyWarning: \n",
      "A value is trying to be set on a copy of a slice from a DataFrame\n",
      "\n",
      "See the caveats in the documentation: http://pandas.pydata.org/pandas-docs/stable/user_guide/indexing.html#returning-a-view-versus-a-copy\n",
      "C:\\ProgramData\\Anaconda3\\lib\\site-packages\\ipykernel_launcher.py:83: SettingWithCopyWarning: \n",
      "A value is trying to be set on a copy of a slice from a DataFrame\n",
      "\n",
      "See the caveats in the documentation: http://pandas.pydata.org/pandas-docs/stable/user_guide/indexing.html#returning-a-view-versus-a-copy\n",
      "C:\\ProgramData\\Anaconda3\\lib\\site-packages\\ipykernel_launcher.py:85: SettingWithCopyWarning: \n",
      "A value is trying to be set on a copy of a slice from a DataFrame\n",
      "\n",
      "See the caveats in the documentation: http://pandas.pydata.org/pandas-docs/stable/user_guide/indexing.html#returning-a-view-versus-a-copy\n",
      "C:\\ProgramData\\Anaconda3\\lib\\site-packages\\ipykernel_launcher.py:86: SettingWithCopyWarning: \n",
      "A value is trying to be set on a copy of a slice from a DataFrame\n",
      "\n",
      "See the caveats in the documentation: http://pandas.pydata.org/pandas-docs/stable/user_guide/indexing.html#returning-a-view-versus-a-copy\n",
      "C:\\ProgramData\\Anaconda3\\lib\\site-packages\\ipykernel_launcher.py:87: SettingWithCopyWarning: \n",
      "A value is trying to be set on a copy of a slice from a DataFrame\n",
      "\n",
      "See the caveats in the documentation: http://pandas.pydata.org/pandas-docs/stable/user_guide/indexing.html#returning-a-view-versus-a-copy\n",
      "C:\\ProgramData\\Anaconda3\\lib\\site-packages\\ipykernel_launcher.py:88: SettingWithCopyWarning: \n",
      "A value is trying to be set on a copy of a slice from a DataFrame\n",
      "\n",
      "See the caveats in the documentation: http://pandas.pydata.org/pandas-docs/stable/user_guide/indexing.html#returning-a-view-versus-a-copy\n",
      "C:\\ProgramData\\Anaconda3\\lib\\site-packages\\ipykernel_launcher.py:89: SettingWithCopyWarning: \n",
      "A value is trying to be set on a copy of a slice from a DataFrame\n",
      "\n",
      "See the caveats in the documentation: http://pandas.pydata.org/pandas-docs/stable/user_guide/indexing.html#returning-a-view-versus-a-copy\n",
      "C:\\ProgramData\\Anaconda3\\lib\\site-packages\\ipykernel_launcher.py:90: SettingWithCopyWarning: \n",
      "A value is trying to be set on a copy of a slice from a DataFrame\n",
      "\n",
      "See the caveats in the documentation: http://pandas.pydata.org/pandas-docs/stable/user_guide/indexing.html#returning-a-view-versus-a-copy\n",
      "C:\\ProgramData\\Anaconda3\\lib\\site-packages\\ipykernel_launcher.py:91: SettingWithCopyWarning: \n",
      "A value is trying to be set on a copy of a slice from a DataFrame\n",
      "\n",
      "See the caveats in the documentation: http://pandas.pydata.org/pandas-docs/stable/user_guide/indexing.html#returning-a-view-versus-a-copy\n",
      "C:\\ProgramData\\Anaconda3\\lib\\site-packages\\ipykernel_launcher.py:92: SettingWithCopyWarning: \n",
      "A value is trying to be set on a copy of a slice from a DataFrame\n",
      "\n",
      "See the caveats in the documentation: http://pandas.pydata.org/pandas-docs/stable/user_guide/indexing.html#returning-a-view-versus-a-copy\n",
      "C:\\ProgramData\\Anaconda3\\lib\\site-packages\\ipykernel_launcher.py:93: SettingWithCopyWarning: \n",
      "A value is trying to be set on a copy of a slice from a DataFrame\n",
      "\n",
      "See the caveats in the documentation: http://pandas.pydata.org/pandas-docs/stable/user_guide/indexing.html#returning-a-view-versus-a-copy\n",
      "C:\\ProgramData\\Anaconda3\\lib\\site-packages\\ipykernel_launcher.py:94: SettingWithCopyWarning: \n",
      "A value is trying to be set on a copy of a slice from a DataFrame\n",
      "\n",
      "See the caveats in the documentation: http://pandas.pydata.org/pandas-docs/stable/user_guide/indexing.html#returning-a-view-versus-a-copy\n",
      "C:\\ProgramData\\Anaconda3\\lib\\site-packages\\ipykernel_launcher.py:95: SettingWithCopyWarning: \n",
      "A value is trying to be set on a copy of a slice from a DataFrame\n",
      "\n",
      "See the caveats in the documentation: http://pandas.pydata.org/pandas-docs/stable/user_guide/indexing.html#returning-a-view-versus-a-copy\n",
      "C:\\ProgramData\\Anaconda3\\lib\\site-packages\\ipykernel_launcher.py:96: SettingWithCopyWarning: \n",
      "A value is trying to be set on a copy of a slice from a DataFrame\n",
      "\n",
      "See the caveats in the documentation: http://pandas.pydata.org/pandas-docs/stable/user_guide/indexing.html#returning-a-view-versus-a-copy\n",
      "C:\\ProgramData\\Anaconda3\\lib\\site-packages\\ipykernel_launcher.py:97: SettingWithCopyWarning: \n",
      "A value is trying to be set on a copy of a slice from a DataFrame\n",
      "\n",
      "See the caveats in the documentation: http://pandas.pydata.org/pandas-docs/stable/user_guide/indexing.html#returning-a-view-versus-a-copy\n"
     ]
    }
   ],
   "source": [
    "bureau1 = pd.read_csv(r'C:\\Users\\Varishu Pant\\Desktop\\Praxis docs\\Financial Analytics\\home-credit-default-risk\\bureau.csv')\n",
    "bureau_balance1 = pd.read_csv(r'C:\\Users\\Varishu Pant\\Desktop\\Praxis docs\\Financial Analytics\\home-credit-default-risk\\bureau_balance.csv')\n",
    "cc =pd.read_csv(r'C:\\Users\\Varishu Pant\\Desktop\\Praxis docs\\Financial Analytics\\home-credit-default-risk\\credit_card_balance.csv')\n",
    "pos=pd.read_csv(r'C:\\Users\\Varishu Pant\\Desktop\\Praxis docs\\Financial Analytics\\home-credit-default-risk\\POS_CASH_balance.csv')\n",
    "inst=pd.read_csv(r'C:\\Users\\Varishu Pant\\Desktop\\Praxis docs\\Financial Analytics\\home-credit-default-risk\\installments_payments.csv')\n",
    "prevapp =pd.read_csv(r\"C:\\Users\\Varishu Pant\\Desktop\\Praxis docs\\Financial Analytics\\home-credit-default-risk\\previous_application.csv\")\n",
    "app_train = pd.read_csv(r'C:\\Users\\Varishu Pant\\Desktop\\Praxis docs\\Financial Analytics\\home-credit-default-risk\\application_train.csv')\n",
    "app_test = pd.read_csv(r'C:\\Users\\Varishu Pant\\Desktop\\Praxis docs\\Financial Analytics\\home-credit-default-risk\\application_test.csv')\n",
    "\n",
    "agg_credit_test,agg_inst_test,agg_pos_test,agg_prevapp_test,agg_bureau_test,agg_app_test=preprocessing_pipeline(app_train,app_test,prevapp,bureau1,bureau_balance1,cc,pos,inst)"
   ]
  },
  {
   "cell_type": "code",
   "execution_count": 481,
   "metadata": {},
   "outputs": [
    {
     "data": {
      "text/plain": [
       "(14464, 387)"
      ]
     },
     "execution_count": 481,
     "metadata": {},
     "output_type": "execute_result"
    }
   ],
   "source": [
    "df=agg_app_test.join(agg_inst_test,how='inner',on='SK_ID_CURR',lsuffix='1',rsuffix='2')\n",
    "df1=df.join(agg_prevapp_test,how='inner',lsuffix='1',rsuffix='2')\n",
    "df2=df1.join(agg_pos_test,how='inner',lsuffix='1',rsuffix='2')\n",
    "df3=df2.join(agg_bureau_test,how='inner',lsuffix='1',rsuffix='2')\n",
    "df4=df3.join(agg_credit_test,how='inner',lsuffix='1',rsuffix='2')\n",
    "df4.shape"
   ]
  },
  {
   "cell_type": "code",
   "execution_count": 485,
   "metadata": {},
   "outputs": [],
   "source": [
    "test=df4.copy()"
   ]
  },
  {
   "cell_type": "code",
   "execution_count": 493,
   "metadata": {},
   "outputs": [],
   "source": [
    "test.to_csv('FINAL_TEST_MERGED.csv')"
   ]
  },
  {
   "cell_type": "code",
   "execution_count": 488,
   "metadata": {},
   "outputs": [
    {
     "data": {
      "text/plain": [
       "(14464, 387)"
      ]
     },
     "execution_count": 488,
     "metadata": {},
     "output_type": "execute_result"
    }
   ],
   "source": [
    "test.shape"
   ]
  },
  {
   "cell_type": "code",
   "execution_count": 451,
   "metadata": {},
   "outputs": [],
   "source": [
    "#app will take either app_train or app_tes\n",
    "def preprocessing_pipeline(app_train,app_test,previous_application,bureau,bureau_balance,credit_card_balance,pos_cash_balance,installment_payments):\n",
    "    \n",
    "    train_or_test=int(input('Want train or test?:(0:train,1:test)--'))\n",
    "\n",
    "    final_bureau=bureau_stuff(bureau,bureau_balance,app_train,app_test,train_or_test)\n",
    "    fin_cred,fin_inst,fin_pos,fin_prev,fin_app=imputation(credit_card_balance,pos_cash_balance,installment_payments,previous_application,app_train,app_test,train_or_test)\n",
    "    agg_credit=fin_cred.copy()\n",
    "    agg_inst=fin_inst.copy()\n",
    "    agg_pos=fin_pos.copy()\n",
    "    agg_prevapp=fin_prev.copy()\n",
    "    agg_bureau=final_bureau.copy()\n",
    "    agg_app=fin_app.copy()\n",
    "    agg_credit=grouped_data(fin_cred)\n",
    "    agg_inst=grouped_data(fin_inst)\n",
    "    agg_pos=grouped_data(fin_pos)\n",
    "    agg_prevapp=grouped_data(fin_prev)\n",
    "    agg_bureau=grouped_data(final_bureau)\n",
    "    agg_app=grouped_data(fin_app)\n",
    "\n",
    "    #    merged_df=merge_fin(agg_app)\n",
    "\n",
    "    return(agg_credit,agg_inst,agg_pos,agg_prevapp,agg_bureau,agg_app)"
   ]
  },
  {
   "cell_type": "code",
   "execution_count": 423,
   "metadata": {},
   "outputs": [],
   "source": [
    "def bureau_stuff(bureau,bureau_balance,app_train,app_test,train_or_test):\n",
    "                                  \n",
    "    from sklearn import preprocessing\n",
    "    \n",
    "    if train_or_test==0:\n",
    "            unique_ids=app_train.loc[:,'SK_ID_CURR']\n",
    "    elif train_or_test==1:\n",
    "            unique_ids=app_test.loc[:,'SK_ID_CURR']\n",
    "    else:\n",
    "            print('Invalid Entry:Enter 0 or 1')\n",
    "\n",
    "    label_encoder = preprocessing.LabelEncoder()\n",
    "    cleanup_nums = {\"STATUS\":{\"C\": 0, \"X\": -1, \"0\": 0,\"1\": 1,\"2\":2,\"3\":3,\"4\":4,\"5\":5}}\n",
    "    bureau_balance.replace(cleanup_nums, inplace=True)\n",
    "    bureau_balance_done=pd.DataFrame()\n",
    "    bureau_balance_done1=bureau_balance.groupby(by='SK_ID_BUREAU')['STATUS'].max()\n",
    "    bureau_balance_done2=pd.DataFrame(bureau_balance.groupby(by='SK_ID_BUREAU')['MONTHS_BALANCE'].max())\n",
    "    bureau_balance_done=pd.DataFrame(bureau_balance_done1)\n",
    "    bureau_balance_done['MONTHS_BALANCE']=bureau_balance_done2.loc[:,'MONTHS_BALANCE']\n",
    "    bureau_joined=bureau.join(bureau_balance_done,how='left',on='SK_ID_BUREAU')\n",
    "    \n",
    "    b=bureau_joined.copy()\n",
    "    list_id_b=b.loc[:,'SK_ID_CURR']\n",
    "    b_skid=set(list_id_b).intersection(set(unique_ids))\n",
    "    b=b[b.SK_ID_CURR.isin(b_skid)]\n",
    "    list=[\"DAYS_CREDIT_ENDDATE\",\"AMT_CREDIT_SUM_DEBT\",\"AMT_CREDIT_SUM_LIMIT\",\"AMT_CREDIT_SUM\"]\n",
    "    df=b.copy() \n",
    "    for i in list:\n",
    "        s = df.groupby('CREDIT_ACTIVE')[i].median()\n",
    "        df[i].fillna(df['CREDIT_ACTIVE'].map(s), inplace=True)\n",
    "    df[\"STATUS\"].fillna(value=-1,inplace=True)\n",
    "    df[\"MONTHS_BALANCE\"].fillna(value=df[\"MONTHS_BALANCE\"].notnull().median(),inplace=True)\n",
    "    df1 = df.drop([\"DAYS_ENDDATE_FACT\",\"AMT_CREDIT_MAX_OVERDUE\",\"AMT_ANNUITY\"], axis=1)\n",
    "    \n",
    "    return df1"
   ]
  },
  {
   "cell_type": "code",
   "execution_count": 479,
   "metadata": {},
   "outputs": [],
   "source": [
    "def imputation(cc,pos,inst,prevapp,app_train,app_test,train_or_test):\n",
    "    \n",
    "    if train_or_test==0:\n",
    "            unique_ids=app_train.loc[:,'SK_ID_CURR']\n",
    "            df=app_train.copy()\n",
    "    elif train_or_test==1:\n",
    "            unique_ids=app_test.loc[:,'SK_ID_CURR']\n",
    "            df=app_test.copy()\n",
    "    else:\n",
    "            print('Invalid Entry:Enter 0 or 1')\n",
    "   \n",
    "    from sklearn.linear_model import LinearRegression\n",
    "    list_id_credit_card_balance=cc.loc[:,'SK_ID_CURR']\n",
    "    credit_skid=set(list_id_credit_card_balance).intersection(set(unique_ids))\n",
    "    credit=cc[cc.SK_ID_CURR.isin(credit_skid)]\n",
    "    m1 = credit['AMT_DRAWINGS_ATM_CURRENT'].median()\n",
    "    m2 = credit['AMT_DRAWINGS_OTHER_CURRENT'].median()\n",
    "    m3 = credit['AMT_DRAWINGS_POS_CURRENT'].median()\n",
    "    m4 = credit['AMT_INST_MIN_REGULARITY'].median()\n",
    "    m5 = credit['AMT_PAYMENT_CURRENT'].median()\n",
    "    m6 = credit['CNT_DRAWINGS_ATM_CURRENT'].median()\n",
    "    m7 = credit['CNT_DRAWINGS_OTHER_CURRENT'].median()\n",
    "    m8 = credit['CNT_DRAWINGS_POS_CURRENT'].median()\n",
    "    m9 = credit['CNT_INSTALMENT_MATURE_CUM'].median()\n",
    "    credit_new=credit.copy()\n",
    "    credit_new['AMT_DRAWINGS_ATM_CURRENT'].fillna(m1, inplace=True)\n",
    "    credit_new['AMT_DRAWINGS_OTHER_CURRENT'].fillna(m2, inplace=True)\n",
    "    credit_new['AMT_DRAWINGS_POS_CURRENT'].fillna(m3, inplace=True)\n",
    "    credit_new['AMT_INST_MIN_REGULARITY'].fillna(m4, inplace=True)\n",
    "    credit_new['AMT_PAYMENT_CURRENT'].fillna(m5, inplace=True)\n",
    "    credit_new['CNT_DRAWINGS_ATM_CURRENT'].fillna(m6, inplace=True)\n",
    "    credit_new['CNT_DRAWINGS_OTHER_CURRENT'].fillna(m7, inplace=True)\n",
    "    credit_new['CNT_DRAWINGS_POS_CURRENT'].fillna(m8, inplace=True)\n",
    "    credit_new['CNT_INSTALMENT_MATURE_CUM'].fillna(m9, inplace=True)\n",
    "    \n",
    "    list_id_inst=inst.loc[:,'SK_ID_CURR']\n",
    "    unique_test_ids=app_test.loc[:,'SK_ID_CURR']\n",
    "    inst_skid=set(list_id_inst).intersection(set(unique_ids))\n",
    "    inst=inst[inst.SK_ID_CURR.isin(inst_skid)]\n",
    "    inst_new=inst.copy()\n",
    "    value1=inst_new['DAYS_ENTRY_PAYMENT'].median()\n",
    "    value2=inst_new['AMT_PAYMENT'].median()\n",
    "    inst_new['DAYS_ENTRY_PAYMENT'].fillna(value1,inplace=True)\n",
    "    inst_new['AMT_PAYMENT'].fillna(value2,inplace=True)\n",
    "\n",
    "    list_id_pos=pos.loc[:,'SK_ID_CURR']\n",
    "    pos_skid=set(list_id_pos).intersection(set(unique_ids))\n",
    "    pos=pos[pos.SK_ID_CURR.isin(pos_skid)]\n",
    "    pos_new=pos.copy()\n",
    "    val1=pos_new['CNT_INSTALMENT'].median()\n",
    "    pos_new['CNT_INSTALMENT'].fillna(val1,inplace=True)\n",
    "    val2=pos_new['CNT_INSTALMENT_FUTURE'].median()\n",
    "    pos_new['CNT_INSTALMENT_FUTURE'].fillna(val2,inplace=True)\n",
    "\n",
    "    list_id_data=prevapp.loc[:,'SK_ID_CURR']\n",
    "    previous_application_skid=set(list_id_data).intersection(set(unique_ids))\n",
    "    previous_application=prevapp[prevapp.SK_ID_CURR.isin(previous_application_skid)]\n",
    "    prevapp_new = previous_application.copy()\n",
    "    prevapp_new=prevapp_new.drop(columns=['AMT_DOWN_PAYMENT', 'RATE_DOWN_PAYMENT','RATE_INTEREST_PRIMARY','RATE_INTEREST_PRIVILEGED','NAME_TYPE_SUITE','DAYS_FIRST_DRAWING','DAYS_FIRST_DUE','DAYS_LAST_DUE_1ST_VERSION','DAYS_LAST_DUE','DAYS_TERMINATION','NFLAG_INSURED_ON_APPROVAL'], axis = 1)\n",
    "    prevapp_new.AMT_ANNUITY[prevapp_new.AMT_ANNUITY.isnull()] = prevapp_new.AMT_ANNUITY.median()\n",
    "    prevapp_new.AMT_GOODS_PRICE[prevapp_new.AMT_GOODS_PRICE.isnull()] = prevapp_new.AMT_GOODS_PRICE.median()\n",
    "    prevapp_new.AMT_CREDIT[prevapp_new.AMT_CREDIT.isnull()] = prevapp_new.AMT_CREDIT.median()\n",
    "    prevapp_new.CNT_PAYMENT[prevapp_new.CNT_PAYMENT.isnull()] = prevapp_new.CNT_PAYMENT.median()\n",
    "\n",
    "    pd.crosstab(prevapp_new.PRODUCT_COMBINATION,columns=\"counts\")/1413701*100\n",
    "    prevapp_new.PRODUCT_COMBINATION[prevapp_new.PRODUCT_COMBINATION.isnull()] = \"Cash\"\n",
    "    \n",
    "    df_old=df.copy()\n",
    "    df.CNT_FAM_MEMBERS[(df.CNT_FAM_MEMBERS.isnull()) & (df.CNT_CHILDREN==0)] = df.CNT_FAM_MEMBERS[(df.CNT_FAM_MEMBERS.notnull())&(df.CNT_CHILDREN==0)].median()\n",
    "    df.AMT_ANNUITY[(df.AMT_ANNUITY.isnull())]= df.AMT_ANNUITY[(df.AMT_ANNUITY.notnull())].median()\n",
    "    df.EXT_SOURCE_2[(df.EXT_SOURCE_2.isnull())]= df.EXT_SOURCE_2[(df.EXT_SOURCE_2.notnull())].median()\n",
    "    df2=df.loc[:,[\"AMT_GOODS_PRICE\",\"AMT_ANNUITY\",\"CNT_FAM_MEMBERS\",\"EXT_SOURCE_2\",\"EXT_SOURCE_3\"]]\n",
    "#     X=df2.loc[((df2.AMT_GOODS_PRICE.notnull())&(df2.CNT_FAM_MEMBERS.notnull())&(df2.EXT_SOURCE_2.notnull())\n",
    "#           & (df2.EXT_SOURCE_3.notnull()) & (df2.AMT_ANNUITY.notnull()))]\n",
    "#     model=LinearRegression().fit(X.loc[:,[\"AMT_ANNUITY\",\"CNT_FAM_MEMBERS\",\"EXT_SOURCE_2\",\"EXT_SOURCE_3\"]],X.loc[:,'AMT_GOODS_PRICE'])\n",
    "#     preddf=df2.loc[((df2.AMT_ANNUITY.notnull())&(df2.CNT_FAM_MEMBERS.notnull())&(df2.EXT_SOURCE_2.notnull())\n",
    "#           & (df2.EXT_SOURCE_3.notnull()) & (df2.AMT_GOODS_PRICE.isnull()))]\n",
    "#     preddf=preddf.loc[:,[\"AMT_ANNUITY\",\"CNT_FAM_MEMBERS\",\"EXT_SOURCE_2\",\"EXT_SOURCE_3\"]]\n",
    "#     print(preddf.shape)\n",
    "#     df.AMT_GOODS_PRICE[(df2.AMT_ANNUITY.notnull())&(df2.CNT_FAM_MEMBERS.notnull())&(df2.EXT_SOURCE_2.notnull())\n",
    "#           & (df2.EXT_SOURCE_3.notnull()) & (df2.AMT_GOODS_PRICE.isnull())] = model.predict(preddf)\n",
    "    df.AMT_GOODS_PRICE[(df.AMT_GOODS_PRICE.isnull())]=df.AMT_GOODS_PRICE[(df.AMT_GOODS_PRICE.notnull())].median()\n",
    "    df.NAME_TYPE_SUITE[(df.NAME_TYPE_SUITE.isnull())]=df.NAME_TYPE_SUITE[(df.NAME_TYPE_SUITE.notnull())].mode()[0]\n",
    "    df.NAME_TYPE_SUITE[(df.NAME_TYPE_SUITE.notnull())].mode()[0]\n",
    "    df.AMT_GOODS_PRICE[(df.AMT_GOODS_PRICE.isnull())]=df.AMT_GOODS_PRICE[(df.AMT_GOODS_PRICE.notnull())].median()\n",
    "    df.EXT_SOURCE_3[(df.EXT_SOURCE_3.isnull())]=df.EXT_SOURCE_3[(df.EXT_SOURCE_3.notnull())].median()\n",
    "    df.OBS_30_CNT_SOCIAL_CIRCLE[(df.OBS_30_CNT_SOCIAL_CIRCLE.isnull())]=df.OBS_30_CNT_SOCIAL_CIRCLE[(df.OBS_30_CNT_SOCIAL_CIRCLE.notnull())].mode()[0]\n",
    "    df.DEF_30_CNT_SOCIAL_CIRCLE[(df.DEF_30_CNT_SOCIAL_CIRCLE.isnull())]=df.DEF_30_CNT_SOCIAL_CIRCLE[(df.DEF_30_CNT_SOCIAL_CIRCLE.notnull())].mode()[0]\n",
    "    df.OBS_60_CNT_SOCIAL_CIRCLE[(df.OBS_60_CNT_SOCIAL_CIRCLE.isnull())]=df.OBS_60_CNT_SOCIAL_CIRCLE[(df.OBS_60_CNT_SOCIAL_CIRCLE.notnull())].mode()[0]\n",
    "    df.DEF_60_CNT_SOCIAL_CIRCLE[(df.DEF_60_CNT_SOCIAL_CIRCLE.isnull())]=df.DEF_60_CNT_SOCIAL_CIRCLE[(df.DEF_60_CNT_SOCIAL_CIRCLE.notnull())].mode()[0]\n",
    "    df.DAYS_LAST_PHONE_CHANGE[(df.DAYS_LAST_PHONE_CHANGE.isnull())]=df.DAYS_LAST_PHONE_CHANGE[(df.DAYS_LAST_PHONE_CHANGE.notnull())].mode()[0]\n",
    "    df.AMT_REQ_CREDIT_BUREAU_HOUR[(df.AMT_REQ_CREDIT_BUREAU_HOUR.isnull())]=0\n",
    "    df.AMT_REQ_CREDIT_BUREAU_DAY[(df.AMT_REQ_CREDIT_BUREAU_DAY.isnull())]=0\n",
    "    df.AMT_REQ_CREDIT_BUREAU_WEEK[(df.AMT_REQ_CREDIT_BUREAU_WEEK.isnull())]=0\n",
    "    df.AMT_REQ_CREDIT_BUREAU_MON[(df.AMT_REQ_CREDIT_BUREAU_MON.isnull())]=0\n",
    "    df.AMT_REQ_CREDIT_BUREAU_QRT[(df.AMT_REQ_CREDIT_BUREAU_QRT.isnull())]=0\n",
    "    df.AMT_REQ_CREDIT_BUREAU_YEAR[(df.AMT_REQ_CREDIT_BUREAU_YEAR.isnull())]=0\n",
    "    df = df.loc[:,(df.isnull().sum() < 0.2*df.shape[0])]\n",
    "    \n",
    "    \n",
    "    return(credit_new,inst_new,pos_new,prevapp_new,df)\n",
    "        "
   ]
  },
  {
   "cell_type": "code",
   "execution_count": 253,
   "metadata": {},
   "outputs": [],
   "source": [
    "def grouped_data(data):\n",
    "    to_agg_cat=['SK_ID_CURR']\n",
    "    to_agg_num=[]\n",
    "    for col in data.columns:\n",
    "        if data.loc[:,col].dtype =='object':\n",
    "            to_agg_cat.append(col)\n",
    "        else:\n",
    "            to_agg_num.append(col)\n",
    "    num_data=data.loc[:,to_agg_num]\n",
    "    cat_data=data.loc[:,to_agg_cat]\n",
    "    grouped_num=num_data.groupby(by='SK_ID_CURR').mean()\n",
    "    cat_data_enc=pd.get_dummies(cat_data,drop_first=False)\n",
    "    grouped_enc_cat=cat_data_enc.groupby(by='SK_ID_CURR').sum()\n",
    "    agg_data=pd.merge(grouped_num,grouped_enc_cat,on='SK_ID_CURR')\n",
    "    return agg_data"
   ]
  },
  {
   "cell_type": "code",
   "execution_count": 489,
   "metadata": {},
   "outputs": [],
   "source": [
    "def merge_fin(df,agg_bureau,agg_inst,agg_pos,agg_credit,agg_prevapp):\n",
    "    df1 = df.join(agg_bureau, how='inner', on='SK_ID_CURR', lsuffix='1', rsuffix='2') \n",
    "    #df2 = df1.join(agg_credit, how='inner', on='SK_ID_CURR', lsuffix='1', rsuffix='2') \n",
    "    #print(df2.shape)\n",
    "    df2 = df1.join(agg_inst, how='inner', on='SK_ID_CURR', lsuffix='1', rsuffix='2')    \n",
    "    df3 = df2.join(agg_pos, how='inner', on='SK_ID_CURR', lsuffix='1', rsuffix='2')   \n",
    "    df4 = df3.join(agg_credit, how='inner', on='SK_ID_CURR', lsuffix='1', rsuffix='2') \n",
    "    df5 = df4.join(agg_prevapp, how='inner', on='SK_ID_CURR', lsuffix='1', rsuffix='2') \n",
    "    return df5"
   ]
  },
  {
   "cell_type": "code",
   "execution_count": 490,
   "metadata": {},
   "outputs": [],
   "source": [
    "train=merge_fin(agg_app_fin,agg_bureau_fin,agg_inst_fin,agg_pos_fin,agg_credit_fin,agg_prevapp_fin)"
   ]
  },
  {
   "cell_type": "code",
   "execution_count": 491,
   "metadata": {},
   "outputs": [
    {
     "data": {
      "text/plain": [
       "(72793, 396)"
      ]
     },
     "execution_count": 491,
     "metadata": {},
     "output_type": "execute_result"
    }
   ],
   "source": [
    "train.shape"
   ]
  },
  {
   "cell_type": "code",
   "execution_count": 496,
   "metadata": {},
   "outputs": [
    {
     "data": {
      "text/html": [
       "<div>\n",
       "<style scoped>\n",
       "    .dataframe tbody tr th:only-of-type {\n",
       "        vertical-align: middle;\n",
       "    }\n",
       "\n",
       "    .dataframe tbody tr th {\n",
       "        vertical-align: top;\n",
       "    }\n",
       "\n",
       "    .dataframe thead th {\n",
       "        text-align: right;\n",
       "    }\n",
       "</style>\n",
       "<table border=\"1\" class=\"dataframe\">\n",
       "  <thead>\n",
       "    <tr style=\"text-align: right;\">\n",
       "      <th></th>\n",
       "      <th>TARGET</th>\n",
       "      <th>CNT_CHILDREN</th>\n",
       "      <th>AMT_INCOME_TOTAL</th>\n",
       "      <th>AMT_CREDIT1</th>\n",
       "      <th>AMT_ANNUITY1</th>\n",
       "      <th>AMT_GOODS_PRICE1</th>\n",
       "      <th>REGION_POPULATION_RELATIVE</th>\n",
       "      <th>DAYS_BIRTH</th>\n",
       "      <th>DAYS_EMPLOYED</th>\n",
       "      <th>DAYS_REGISTRATION</th>\n",
       "      <th>...</th>\n",
       "      <th>PRODUCT_COMBINATION_Cash X-Sell: low</th>\n",
       "      <th>PRODUCT_COMBINATION_Cash X-Sell: middle</th>\n",
       "      <th>PRODUCT_COMBINATION_POS household with interest</th>\n",
       "      <th>PRODUCT_COMBINATION_POS household without interest</th>\n",
       "      <th>PRODUCT_COMBINATION_POS industry with interest</th>\n",
       "      <th>PRODUCT_COMBINATION_POS industry without interest</th>\n",
       "      <th>PRODUCT_COMBINATION_POS mobile with interest</th>\n",
       "      <th>PRODUCT_COMBINATION_POS mobile without interest</th>\n",
       "      <th>PRODUCT_COMBINATION_POS other with interest</th>\n",
       "      <th>PRODUCT_COMBINATION_POS others without interest</th>\n",
       "    </tr>\n",
       "    <tr>\n",
       "      <th>SK_ID_CURR</th>\n",
       "      <th></th>\n",
       "      <th></th>\n",
       "      <th></th>\n",
       "      <th></th>\n",
       "      <th></th>\n",
       "      <th></th>\n",
       "      <th></th>\n",
       "      <th></th>\n",
       "      <th></th>\n",
       "      <th></th>\n",
       "      <th></th>\n",
       "      <th></th>\n",
       "      <th></th>\n",
       "      <th></th>\n",
       "      <th></th>\n",
       "      <th></th>\n",
       "      <th></th>\n",
       "      <th></th>\n",
       "      <th></th>\n",
       "      <th></th>\n",
       "      <th></th>\n",
       "    </tr>\n",
       "  </thead>\n",
       "  <tbody>\n",
       "    <tr>\n",
       "      <td>100011</td>\n",
       "      <td>0</td>\n",
       "      <td>0</td>\n",
       "      <td>112500.0</td>\n",
       "      <td>1019610.0</td>\n",
       "      <td>33826.5</td>\n",
       "      <td>913500.0</td>\n",
       "      <td>0.018634</td>\n",
       "      <td>-20099</td>\n",
       "      <td>365243</td>\n",
       "      <td>-7427.0</td>\n",
       "      <td>...</td>\n",
       "      <td>0</td>\n",
       "      <td>0</td>\n",
       "      <td>1</td>\n",
       "      <td>0</td>\n",
       "      <td>0</td>\n",
       "      <td>0</td>\n",
       "      <td>0</td>\n",
       "      <td>0</td>\n",
       "      <td>0</td>\n",
       "      <td>0</td>\n",
       "    </tr>\n",
       "    <tr>\n",
       "      <td>100023</td>\n",
       "      <td>0</td>\n",
       "      <td>1</td>\n",
       "      <td>90000.0</td>\n",
       "      <td>544491.0</td>\n",
       "      <td>17563.5</td>\n",
       "      <td>454500.0</td>\n",
       "      <td>0.015221</td>\n",
       "      <td>-11348</td>\n",
       "      <td>-2038</td>\n",
       "      <td>-1021.0</td>\n",
       "      <td>...</td>\n",
       "      <td>0</td>\n",
       "      <td>0</td>\n",
       "      <td>1</td>\n",
       "      <td>1</td>\n",
       "      <td>0</td>\n",
       "      <td>0</td>\n",
       "      <td>0</td>\n",
       "      <td>0</td>\n",
       "      <td>0</td>\n",
       "      <td>0</td>\n",
       "    </tr>\n",
       "    <tr>\n",
       "      <td>100036</td>\n",
       "      <td>0</td>\n",
       "      <td>0</td>\n",
       "      <td>112500.0</td>\n",
       "      <td>512064.0</td>\n",
       "      <td>25033.5</td>\n",
       "      <td>360000.0</td>\n",
       "      <td>0.008575</td>\n",
       "      <td>-11144</td>\n",
       "      <td>-1104</td>\n",
       "      <td>-7846.0</td>\n",
       "      <td>...</td>\n",
       "      <td>0</td>\n",
       "      <td>0</td>\n",
       "      <td>2</td>\n",
       "      <td>2</td>\n",
       "      <td>0</td>\n",
       "      <td>0</td>\n",
       "      <td>0</td>\n",
       "      <td>0</td>\n",
       "      <td>0</td>\n",
       "      <td>0</td>\n",
       "    </tr>\n",
       "    <tr>\n",
       "      <td>100043</td>\n",
       "      <td>0</td>\n",
       "      <td>2</td>\n",
       "      <td>198000.0</td>\n",
       "      <td>641173.5</td>\n",
       "      <td>23157.0</td>\n",
       "      <td>553500.0</td>\n",
       "      <td>0.018850</td>\n",
       "      <td>-17199</td>\n",
       "      <td>-768</td>\n",
       "      <td>-63.0</td>\n",
       "      <td>...</td>\n",
       "      <td>1</td>\n",
       "      <td>1</td>\n",
       "      <td>0</td>\n",
       "      <td>0</td>\n",
       "      <td>5</td>\n",
       "      <td>0</td>\n",
       "      <td>1</td>\n",
       "      <td>0</td>\n",
       "      <td>0</td>\n",
       "      <td>0</td>\n",
       "    </tr>\n",
       "    <tr>\n",
       "      <td>100047</td>\n",
       "      <td>1</td>\n",
       "      <td>0</td>\n",
       "      <td>202500.0</td>\n",
       "      <td>1193580.0</td>\n",
       "      <td>35028.0</td>\n",
       "      <td>855000.0</td>\n",
       "      <td>0.025164</td>\n",
       "      <td>-17482</td>\n",
       "      <td>-1262</td>\n",
       "      <td>-1182.0</td>\n",
       "      <td>...</td>\n",
       "      <td>0</td>\n",
       "      <td>0</td>\n",
       "      <td>0</td>\n",
       "      <td>0</td>\n",
       "      <td>0</td>\n",
       "      <td>0</td>\n",
       "      <td>1</td>\n",
       "      <td>0</td>\n",
       "      <td>0</td>\n",
       "      <td>0</td>\n",
       "    </tr>\n",
       "  </tbody>\n",
       "</table>\n",
       "<p>5 rows × 396 columns</p>\n",
       "</div>"
      ],
      "text/plain": [
       "            TARGET  CNT_CHILDREN  AMT_INCOME_TOTAL  AMT_CREDIT1  AMT_ANNUITY1  \\\n",
       "SK_ID_CURR                                                                      \n",
       "100011           0             0          112500.0    1019610.0       33826.5   \n",
       "100023           0             1           90000.0     544491.0       17563.5   \n",
       "100036           0             0          112500.0     512064.0       25033.5   \n",
       "100043           0             2          198000.0     641173.5       23157.0   \n",
       "100047           1             0          202500.0    1193580.0       35028.0   \n",
       "\n",
       "            AMT_GOODS_PRICE1  REGION_POPULATION_RELATIVE  DAYS_BIRTH  \\\n",
       "SK_ID_CURR                                                             \n",
       "100011              913500.0                    0.018634      -20099   \n",
       "100023              454500.0                    0.015221      -11348   \n",
       "100036              360000.0                    0.008575      -11144   \n",
       "100043              553500.0                    0.018850      -17199   \n",
       "100047              855000.0                    0.025164      -17482   \n",
       "\n",
       "            DAYS_EMPLOYED  DAYS_REGISTRATION  ...  \\\n",
       "SK_ID_CURR                                    ...   \n",
       "100011             365243            -7427.0  ...   \n",
       "100023              -2038            -1021.0  ...   \n",
       "100036              -1104            -7846.0  ...   \n",
       "100043               -768              -63.0  ...   \n",
       "100047              -1262            -1182.0  ...   \n",
       "\n",
       "            PRODUCT_COMBINATION_Cash X-Sell: low  \\\n",
       "SK_ID_CURR                                         \n",
       "100011                                         0   \n",
       "100023                                         0   \n",
       "100036                                         0   \n",
       "100043                                         1   \n",
       "100047                                         0   \n",
       "\n",
       "            PRODUCT_COMBINATION_Cash X-Sell: middle  \\\n",
       "SK_ID_CURR                                            \n",
       "100011                                            0   \n",
       "100023                                            0   \n",
       "100036                                            0   \n",
       "100043                                            1   \n",
       "100047                                            0   \n",
       "\n",
       "            PRODUCT_COMBINATION_POS household with interest  \\\n",
       "SK_ID_CURR                                                    \n",
       "100011                                                    1   \n",
       "100023                                                    1   \n",
       "100036                                                    2   \n",
       "100043                                                    0   \n",
       "100047                                                    0   \n",
       "\n",
       "            PRODUCT_COMBINATION_POS household without interest  \\\n",
       "SK_ID_CURR                                                       \n",
       "100011                                                      0    \n",
       "100023                                                      1    \n",
       "100036                                                      2    \n",
       "100043                                                      0    \n",
       "100047                                                      0    \n",
       "\n",
       "            PRODUCT_COMBINATION_POS industry with interest  \\\n",
       "SK_ID_CURR                                                   \n",
       "100011                                                   0   \n",
       "100023                                                   0   \n",
       "100036                                                   0   \n",
       "100043                                                   5   \n",
       "100047                                                   0   \n",
       "\n",
       "            PRODUCT_COMBINATION_POS industry without interest  \\\n",
       "SK_ID_CURR                                                      \n",
       "100011                                                      0   \n",
       "100023                                                      0   \n",
       "100036                                                      0   \n",
       "100043                                                      0   \n",
       "100047                                                      0   \n",
       "\n",
       "            PRODUCT_COMBINATION_POS mobile with interest  \\\n",
       "SK_ID_CURR                                                 \n",
       "100011                                                 0   \n",
       "100023                                                 0   \n",
       "100036                                                 0   \n",
       "100043                                                 1   \n",
       "100047                                                 1   \n",
       "\n",
       "            PRODUCT_COMBINATION_POS mobile without interest  \\\n",
       "SK_ID_CURR                                                    \n",
       "100011                                                    0   \n",
       "100023                                                    0   \n",
       "100036                                                    0   \n",
       "100043                                                    0   \n",
       "100047                                                    0   \n",
       "\n",
       "            PRODUCT_COMBINATION_POS other with interest  \\\n",
       "SK_ID_CURR                                                \n",
       "100011                                                0   \n",
       "100023                                                0   \n",
       "100036                                                0   \n",
       "100043                                                0   \n",
       "100047                                                0   \n",
       "\n",
       "            PRODUCT_COMBINATION_POS others without interest  \n",
       "SK_ID_CURR                                                   \n",
       "100011                                                    0  \n",
       "100023                                                    0  \n",
       "100036                                                    0  \n",
       "100043                                                    0  \n",
       "100047                                                    0  \n",
       "\n",
       "[5 rows x 396 columns]"
      ]
     },
     "execution_count": 496,
     "metadata": {},
     "output_type": "execute_result"
    }
   ],
   "source": [
    "train_full.head()"
   ]
  },
  {
   "cell_type": "code",
   "execution_count": 497,
   "metadata": {},
   "outputs": [],
   "source": [
    "X=train_full.drop('TARGET',axis=1)\n",
    "y=train_full.loc[:,'TARGET']"
   ]
  },
  {
   "cell_type": "code",
   "execution_count": 508,
   "metadata": {},
   "outputs": [
    {
     "data": {
      "text/plain": [
       "(58234, 395)"
      ]
     },
     "execution_count": 508,
     "metadata": {},
     "output_type": "execute_result"
    }
   ],
   "source": [
    "X_train.shape"
   ]
  },
  {
   "cell_type": "code",
   "execution_count": 498,
   "metadata": {},
   "outputs": [],
   "source": [
    "from sklearn.model_selection import train_test_split\n",
    "X_train,X_test,y_train,y_test=train_test_split(X,y,test_size=0.2)"
   ]
  },
  {
   "cell_type": "code",
   "execution_count": null,
   "metadata": {
    "scrolled": false
   },
   "outputs": [],
   "source": [
    "#model(X_train,y_train)"
   ]
  },
  {
   "cell_type": "code",
   "execution_count": 503,
   "metadata": {
    "scrolled": true
   },
   "outputs": [
    {
     "name": "stderr",
     "output_type": "stream",
     "text": [
      "C:\\ProgramData\\Anaconda3\\lib\\site-packages\\sklearn\\linear_model\\sag.py:337: ConvergenceWarning: The max_iter was reached which means the coef_ did not converge\n",
      "  \"the coef_ did not converge\", ConvergenceWarning)\n"
     ]
    },
    {
     "data": {
      "text/plain": [
       "LogisticRegression(C=1, class_weight='balanced', dual=False, fit_intercept=True,\n",
       "                   intercept_scaling=1, l1_ratio=None, max_iter=100,\n",
       "                   multi_class='warn', n_jobs=-1, penalty='l1',\n",
       "                   random_state=None, solver='saga', tol=0.0001, verbose=0,\n",
       "                   warm_start=False)"
      ]
     },
     "execution_count": 503,
     "metadata": {},
     "output_type": "execute_result"
    }
   ],
   "source": [
    "from sklearn.linear_model import LogisticRegression\n",
    "from sklearn.metrics import roc_auc_score\n",
    "logreg = LogisticRegression(penalty='l1',C=1,class_weight='balanced',solver='saga',n_jobs=-1)\n",
    "logreg.fit(X_train, y_train)\n",
    "\n",
    "\n",
    "# train_fpr, train_tpr, thresholds = roc_curve(y_train, logreg.predict_proba(X_train)[:,1])\n",
    "# test_fpr, test_tpr, thresholds = roc_curve(y_test, logreg.predict_proba(X_test)[:,1])\n",
    "\n",
    "# plt.plot(train_fpr, train_tpr, label=\"train AUC =\"+str(auc(train_fpr, train_tpr)))\n",
    "# plt.plot(test_fpr, test_tpr, label=\"test AUC =\"+str(auc(test_fpr, test_tpr)))\n",
    "# plt.legend()\n",
    "# plt.xlabel(\"C: hyperparameter\")\n",
    "# plt.ylabel(\"AUC\")\n",
    "# plt.title(\"ERROR PLOTS\")\n",
    "# plt.show()"
   ]
  },
  {
   "cell_type": "code",
   "execution_count": 504,
   "metadata": {},
   "outputs": [
    {
     "data": {
      "text/plain": [
       "0.6084538542884678"
      ]
     },
     "execution_count": 504,
     "metadata": {},
     "output_type": "execute_result"
    }
   ],
   "source": [
    "roc_auc_score(y_test,logreg.predict(X_test))"
   ]
  },
  {
   "cell_type": "code",
   "execution_count": 505,
   "metadata": {},
   "outputs": [
    {
     "data": {
      "text/plain": [
       "0.5884332715159009"
      ]
     },
     "execution_count": 505,
     "metadata": {},
     "output_type": "execute_result"
    }
   ],
   "source": [
    "accuracy_score(y_test,logreg.predict(X_test))"
   ]
  },
  {
   "cell_type": "code",
   "execution_count": 506,
   "metadata": {},
   "outputs": [
    {
     "data": {
      "text/plain": [
       "0.6083022263176024"
      ]
     },
     "execution_count": 506,
     "metadata": {},
     "output_type": "execute_result"
    }
   ],
   "source": [
    "roc_auc_score(y_train,logreg.predict(X_train))"
   ]
  },
  {
   "cell_type": "code",
   "execution_count": 507,
   "metadata": {},
   "outputs": [
    {
     "data": {
      "text/plain": [
       "0.5878181131297867"
      ]
     },
     "execution_count": 507,
     "metadata": {},
     "output_type": "execute_result"
    }
   ],
   "source": [
    "accuracy_score(y_train,logreg.predict(X_train))"
   ]
  },
  {
   "cell_type": "code",
   "execution_count": 509,
   "metadata": {},
   "outputs": [],
   "source": [
    "new_train=train.loc[:,['EXT_SOURCE_2','EXT_SOURCE_3','TARGET']]"
   ]
  },
  {
   "cell_type": "code",
   "execution_count": 510,
   "metadata": {},
   "outputs": [],
   "source": [
    "X=new_train.drop('TARGET',axis=1)\n",
    "y=new_train.loc[:,'TARGET']"
   ]
  },
  {
   "cell_type": "code",
   "execution_count": 511,
   "metadata": {},
   "outputs": [],
   "source": [
    "X_train,X_test,y_train,y_test=train_test_split(X,y,test_size=0.2)"
   ]
  },
  {
   "cell_type": "code",
   "execution_count": 512,
   "metadata": {},
   "outputs": [
    {
     "data": {
      "text/plain": [
       "0.6560547384485995"
      ]
     },
     "execution_count": 512,
     "metadata": {},
     "output_type": "execute_result"
    }
   ],
   "source": [
    "logreg = LogisticRegression(penalty='l1',C=1,class_weight='balanced',solver='saga',n_jobs=-1)\n",
    "logreg.fit(X_train, y_train)\n",
    "roc_auc_score(y_test,logreg.predict(X_test))"
   ]
  },
  {
   "cell_type": "code",
   "execution_count": 513,
   "metadata": {},
   "outputs": [
    {
     "data": {
      "text/plain": [
       "0.6663919225221513"
      ]
     },
     "execution_count": 513,
     "metadata": {},
     "output_type": "execute_result"
    }
   ],
   "source": [
    "accuracy_score(y_test,logreg.predict(X_test))"
   ]
  },
  {
   "cell_type": "code",
   "execution_count": 514,
   "metadata": {},
   "outputs": [
    {
     "data": {
      "text/plain": [
       "0.6539045168527299"
      ]
     },
     "execution_count": 514,
     "metadata": {},
     "output_type": "execute_result"
    }
   ],
   "source": [
    "roc_auc_score(y_train,logreg.predict(X_train))"
   ]
  },
  {
   "cell_type": "code",
   "execution_count": 515,
   "metadata": {},
   "outputs": [
    {
     "data": {
      "text/plain": [
       "0.6678572655149912"
      ]
     },
     "execution_count": 515,
     "metadata": {},
     "output_type": "execute_result"
    }
   ],
   "source": [
    "accuracy_score(y_train,logreg.predict(X_train))"
   ]
  },
  {
   "cell_type": "code",
   "execution_count": 525,
   "metadata": {},
   "outputs": [
    {
     "data": {
      "text/plain": [
       "(72793, 396)"
      ]
     },
     "execution_count": 525,
     "metadata": {},
     "output_type": "execute_result"
    }
   ],
   "source": [
    "train.shape"
   ]
  },
  {
   "cell_type": "code",
   "execution_count": 529,
   "metadata": {},
   "outputs": [],
   "source": [
    "iv_vars=pd.read_csv(r'C:\\Users\\Varishu Pant\\Desktop\\Praxis docs\\Financial Analytics\\IV values_final.csv')"
   ]
  },
  {
   "cell_type": "code",
   "execution_count": 531,
   "metadata": {},
   "outputs": [
    {
     "data": {
      "text/html": [
       "<div>\n",
       "<style scoped>\n",
       "    .dataframe tbody tr th:only-of-type {\n",
       "        vertical-align: middle;\n",
       "    }\n",
       "\n",
       "    .dataframe tbody tr th {\n",
       "        vertical-align: top;\n",
       "    }\n",
       "\n",
       "    .dataframe thead th {\n",
       "        text-align: right;\n",
       "    }\n",
       "</style>\n",
       "<table border=\"1\" class=\"dataframe\">\n",
       "  <thead>\n",
       "    <tr style=\"text-align: right;\">\n",
       "      <th></th>\n",
       "      <th>Unnamed: 0</th>\n",
       "      <th>VAR_NAME</th>\n",
       "      <th>IV</th>\n",
       "      <th>Unnamed: 3</th>\n",
       "      <th>Unnamed: 4</th>\n",
       "      <th>VAR_NAME.1</th>\n",
       "      <th>IV.1</th>\n",
       "    </tr>\n",
       "  </thead>\n",
       "  <tbody>\n",
       "    <tr>\n",
       "      <td>0</td>\n",
       "      <td>0</td>\n",
       "      <td>AMT_ANNUITY1</td>\n",
       "      <td>0.001994</td>\n",
       "      <td>NaN</td>\n",
       "      <td>101</td>\n",
       "      <td>EXT_SOURCE_3</td>\n",
       "      <td>0.370338</td>\n",
       "    </tr>\n",
       "    <tr>\n",
       "      <td>1</td>\n",
       "      <td>1</td>\n",
       "      <td>AMT_ANNUITY2</td>\n",
       "      <td>0.004294</td>\n",
       "      <td>NaN</td>\n",
       "      <td>100</td>\n",
       "      <td>EXT_SOURCE_2</td>\n",
       "      <td>0.274161</td>\n",
       "    </tr>\n",
       "    <tr>\n",
       "      <td>2</td>\n",
       "      <td>2</td>\n",
       "      <td>AMT_APPLICATION</td>\n",
       "      <td>0.000021</td>\n",
       "      <td>NaN</td>\n",
       "      <td>43</td>\n",
       "      <td>CNT_DRAWINGS_CURRENT</td>\n",
       "      <td>0.173921</td>\n",
       "    </tr>\n",
       "    <tr>\n",
       "      <td>3</td>\n",
       "      <td>3</td>\n",
       "      <td>AMT_BALANCE</td>\n",
       "      <td>0.131136</td>\n",
       "      <td>NaN</td>\n",
       "      <td>88</td>\n",
       "      <td>DAYS_CREDIT</td>\n",
       "      <td>0.146320</td>\n",
       "    </tr>\n",
       "    <tr>\n",
       "      <td>4</td>\n",
       "      <td>4</td>\n",
       "      <td>AMT_CREDIT1</td>\n",
       "      <td>0.011543</td>\n",
       "      <td>NaN</td>\n",
       "      <td>12</td>\n",
       "      <td>AMT_DRAWINGS_CURRENT</td>\n",
       "      <td>0.145501</td>\n",
       "    </tr>\n",
       "  </tbody>\n",
       "</table>\n",
       "</div>"
      ],
      "text/plain": [
       "   Unnamed: 0         VAR_NAME        IV  Unnamed: 3  Unnamed: 4  \\\n",
       "0           0     AMT_ANNUITY1  0.001994         NaN         101   \n",
       "1           1     AMT_ANNUITY2  0.004294         NaN         100   \n",
       "2           2  AMT_APPLICATION  0.000021         NaN          43   \n",
       "3           3      AMT_BALANCE  0.131136         NaN          88   \n",
       "4           4      AMT_CREDIT1  0.011543         NaN          12   \n",
       "\n",
       "             VAR_NAME.1      IV.1  \n",
       "0          EXT_SOURCE_3  0.370338  \n",
       "1          EXT_SOURCE_2  0.274161  \n",
       "2  CNT_DRAWINGS_CURRENT  0.173921  \n",
       "3           DAYS_CREDIT  0.146320  \n",
       "4  AMT_DRAWINGS_CURRENT  0.145501  "
      ]
     },
     "execution_count": 531,
     "metadata": {},
     "output_type": "execute_result"
    }
   ],
   "source": [
    "iv_vars.head()"
   ]
  },
  {
   "cell_type": "code",
   "execution_count": 533,
   "metadata": {},
   "outputs": [],
   "source": [
    "sorted_iv=iv_vars.sort_values(by='IV',ascending=False)"
   ]
  },
  {
   "cell_type": "code",
   "execution_count": 536,
   "metadata": {},
   "outputs": [],
   "source": [
    "new_vars=sorted_iv.loc[:,'VAR_NAME'][0:20]"
   ]
  },
  {
   "cell_type": "code",
   "execution_count": 542,
   "metadata": {},
   "outputs": [
    {
     "name": "stdout",
     "output_type": "stream",
     "text": [
      "ROC score for validation data: 0.6168953494877043\n",
      "ROC score for validation data: 0.6086149934445273\n",
      "Accuracy score for validation data: 0.7412597019026032\n",
      "Accuracy score for train data: 0.7385891403647353\n"
     ]
    },
    {
     "name": "stderr",
     "output_type": "stream",
     "text": [
      "C:\\ProgramData\\Anaconda3\\lib\\site-packages\\sklearn\\linear_model\\sag.py:337: ConvergenceWarning: The max_iter was reached which means the coef_ did not converge\n",
      "  \"the coef_ did not converge\", ConvergenceWarning)\n"
     ]
    }
   ],
   "source": [
    "X=train.loc[:,new_vars]\n",
    "y=train.loc[:,'TARGET']\n",
    "X_train,X_test,y_train,y_test=train_test_split(X,y,test_size=0.2)\n",
    "logreg = LogisticRegression(penalty='l1',C=1,class_weight='balanced',solver='saga',n_jobs=-1)\n",
    "logreg.fit(X_train, y_train)\n",
    "print('ROC score for validation data:',roc_auc_score(y_test,logreg.predict(X_test)))\n",
    "print('ROC score for validation data:',roc_auc_score(y_train,logreg.predict(X_train)))\n",
    "print('Accuracy score for validation data:',accuracy_score(y_test,logreg.predict(X_test)))  \n",
    "print('Accuracy score for train data:',accuracy_score(y_train,logreg.predict(X_train)))  \n",
    "      "
   ]
  },
  {
   "cell_type": "code",
   "execution_count": 548,
   "metadata": {},
   "outputs": [],
   "source": [
    "from sklearn.linear_model import LogisticRegression\n",
    "from sklearn.metrics import roc_auc_score\n",
    "import matplotlib.pyplot as plt\n",
    "from sklearn.model_selection import GridSearchCV\n",
    "def model(X_train,y_train):\n",
    "    train_auc = []\n",
    "    cv_auc = []\n",
    "    C = np.logspace(-5,5,11)\n",
    "    logreg = LogisticRegression()\n",
    "    parameters = {'C': np.logspace(-5,5,11), 'penalty':['l1'],'solver':['saga'],'class_weight':['balanced'],'n_jobs':[-1]}\n",
    "    clf = GridSearchCV(logreg,parameters,scoring='roc_auc',cv=5)\n",
    "    clf.fit(X_train, y_train)\n",
    "\n",
    "\n",
    "#     train_auc= clf.cv_results_['mean_train_score']\n",
    "#     train_auc_std= clf.cv_results_['std_train_score']\n",
    "#     cv_auc = clf.cv_results_['mean_test_score']\n",
    "#     cv_auc_std= clf.cv_results_['std_test_score']\n",
    "\n",
    "#     plt.figure()\n",
    "#     plt.semilogx(C, train_auc, label='Train AUC',\n",
    "#                  color='navy')\n",
    "   \n",
    "#     plt.gca().fill_between(C,train_auc - train_auc_std,train_auc + train_auc_std,alpha=0.2,color='darkblue')\n",
    "\n",
    "#     plt.semilogx(C, cv_auc,\n",
    "#                  label='CV AUC', color='darkorange')\n",
    " \n",
    "#     plt.gca().fill_between(C,cv_auc - cv_auc_std,cv_auc + cv_auc_std,alpha=0.2,color='darkorange')\n",
    "#     plt.legend()\n",
    "#     plt.xlabel(\"C: hyperparameter\")\n",
    "#     plt.ylabel(\"AUC\")\n",
    "#     plt.title(\"ERROR PLOTS\")\n",
    "#     plt.show()\n",
    "    print(clf.best_params_ )\n",
    "    print(clf.best_score_)\n",
    "\n"
   ]
  },
  {
   "cell_type": "code",
   "execution_count": 549,
   "metadata": {},
   "outputs": [
    {
     "name": "stdout",
     "output_type": "stream",
     "text": [
      "{'C': 0.1, 'class_weight': 'balanced', 'n_jobs': -1, 'penalty': 'l1', 'solver': 'saga'}\n",
      "0.6501563650181774\n"
     ]
    },
    {
     "name": "stderr",
     "output_type": "stream",
     "text": [
      "C:\\ProgramData\\Anaconda3\\lib\\site-packages\\sklearn\\linear_model\\sag.py:337: ConvergenceWarning: The max_iter was reached which means the coef_ did not converge\n",
      "  \"the coef_ did not converge\", ConvergenceWarning)\n"
     ]
    }
   ],
   "source": [
    "model(X_train,y_train)"
   ]
  },
  {
   "cell_type": "code",
   "execution_count": 550,
   "metadata": {},
   "outputs": [
    {
     "name": "stderr",
     "output_type": "stream",
     "text": [
      "C:\\ProgramData\\Anaconda3\\lib\\site-packages\\sklearn\\linear_model\\sag.py:337: ConvergenceWarning: The max_iter was reached which means the coef_ did not converge\n",
      "  \"the coef_ did not converge\", ConvergenceWarning)\n"
     ]
    },
    {
     "data": {
      "image/png": "[encoded data removed]",
      "text/plain": [
       "<Figure size 432x288 with 1 Axes>"
      ]
     },
     "metadata": {
      "needs_background": "light"
     },
     "output_type": "display_data"
    },
    {
     "name": "stdout",
     "output_type": "stream",
     "text": [
      "====================================================================================================\n",
      "Train confusion matrix\n",
      "[[40834 12551]\n",
      " [ 2657  2192]]\n",
      "Test confusion matrix\n",
      "[[10212  3098]\n",
      " [  667   582]]\n"
     ]
    }
   ],
   "source": [
    "from sklearn.metrics import roc_curve, auc\n",
    "from sklearn.linear_model import LogisticRegression\n",
    "\n",
    "logreg = LogisticRegression(penalty='l1',C=0.1,class_weight='balanced',solver='saga')\n",
    "logreg.fit(X_train, y_train)\n",
    "\n",
    "\n",
    "train_fpr, train_tpr, thresholds = roc_curve(y_train, logreg.predict_proba(X_train)[:,1])\n",
    "test_fpr, test_tpr, thresholds = roc_curve(y_test, logreg.predict_proba(X_test)[:,1])\n",
    "\n",
    "plt.plot(train_fpr, train_tpr, label=\"train AUC =\"+str(auc(train_fpr, train_tpr)))\n",
    "plt.plot(test_fpr, test_tpr, label=\"test AUC =\"+str(auc(test_fpr, test_tpr)))\n",
    "plt.legend()\n",
    "plt.xlabel(\"C: hyperparameter\")\n",
    "plt.ylabel(\"AUC\")\n",
    "plt.title(\"ERROR PLOTS\")\n",
    "plt.show()\n",
    "\n",
    "print(\"=\"*100)\n",
    "\n",
    "from sklearn.metrics import confusion_matrix\n",
    "print(\"Train confusion matrix\")\n",
    "print(confusion_matrix(y_train, logreg.predict(X_train)))\n",
    "print(\"Test confusion matrix\")\n",
    "print(confusion_matrix(y_test, logreg.predict(X_test)))\n"
   ]
  },
  {
   "cell_type": "code",
   "execution_count": 563,
   "metadata": {},
   "outputs": [
    {
     "data": {
      "text/plain": [
       "array([[-7.50861036e-08, -7.22706018e-08,  4.06089605e-07,\n",
       "         1.03698963e-04,  6.33620623e-06,  6.35626624e-05,\n",
       "        -5.39554312e-05, -3.93020727e-06, -4.22937673e-06,\n",
       "         6.09560554e-08,  5.90510489e-05,  5.51666798e-05,\n",
       "         5.48555334e-05, -3.04866486e-05,  7.72642815e-06,\n",
       "         4.33678141e-05, -2.48436314e-05,  5.91754391e-07,\n",
       "         1.40643325e-05,  5.49515781e-05]])"
      ]
     },
     "execution_count": 563,
     "metadata": {},
     "output_type": "execute_result"
    }
   ],
   "source": [
    "logreg.coef_"
   ]
  },
  {
   "cell_type": "code",
   "execution_count": 551,
   "metadata": {},
   "outputs": [
    {
     "data": {
      "text/plain": [
       "0.738846721846344"
      ]
     },
     "execution_count": 551,
     "metadata": {},
     "output_type": "execute_result"
    }
   ],
   "source": [
    "from sklearn.metrics import accuracy_score\n",
    "accuracy_score(y_train,logreg.predict(X_train))"
   ]
  },
  {
   "cell_type": "code",
   "execution_count": 552,
   "metadata": {},
   "outputs": [
    {
     "data": {
      "text/plain": [
       "0.7413970739748609"
      ]
     },
     "execution_count": 552,
     "metadata": {},
     "output_type": "execute_result"
    }
   ],
   "source": [
    "accuracy_score(y_test,logreg.predict(X_test))"
   ]
  },
  {
   "cell_type": "code",
   "execution_count": 555,
   "metadata": {},
   "outputs": [],
   "source": [
    "y_valid_pred=logreg.predict_proba(X_test)[:,1]"
   ]
  },
  {
   "cell_type": "code",
   "execution_count": 561,
   "metadata": {},
   "outputs": [],
   "source": [
    "output=pd.DataFrame([y_valid_pred,y_test],index=['Predicted','Actual']).T"
   ]
  },
  {
   "cell_type": "code",
   "execution_count": 562,
   "metadata": {},
   "outputs": [],
   "source": [
    "output.to_csv('output_valid.csv')"
   ]
  }
 ],
 "metadata": {
  "kernelspec": {
   "display_name": "Python 3",
   "language": "python",
   "name": "python3"
  },
  "language_info": {
   "codemirror_mode": {
    "name": "ipython",
    "version": 3
   },
   "file_extension": ".py",
   "mimetype": "text/x-python",
   "name": "python",
   "nbconvert_exporter": "python",
   "pygments_lexer": "ipython3",
   "version": "3.7.4"
  }
 },
 "nbformat": 4,
 "nbformat_minor": 2
}
